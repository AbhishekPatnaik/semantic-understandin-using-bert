{
 "cells": [
  {
   "cell_type": "code",
   "execution_count": 4,
   "metadata": {},
   "outputs": [],
   "source": [
    "import pandas as pd\n",
    "import numpy as np"
   ]
  },
  {
   "cell_type": "code",
   "execution_count": 5,
   "metadata": {},
   "outputs": [],
   "source": [
    "path = \"/Users/abhishekpatnaik/Downloads/quora-question-pairs/train.csv\""
   ]
  },
  {
   "cell_type": "code",
   "execution_count": 6,
   "metadata": {},
   "outputs": [],
   "source": [
    "data = pd.read_csv(path)"
   ]
  },
  {
   "cell_type": "code",
   "execution_count": 7,
   "metadata": {},
   "outputs": [
    {
     "data": {
      "text/html": [
       "<div>\n",
       "<style scoped>\n",
       "    .dataframe tbody tr th:only-of-type {\n",
       "        vertical-align: middle;\n",
       "    }\n",
       "\n",
       "    .dataframe tbody tr th {\n",
       "        vertical-align: top;\n",
       "    }\n",
       "\n",
       "    .dataframe thead th {\n",
       "        text-align: right;\n",
       "    }\n",
       "</style>\n",
       "<table border=\"1\" class=\"dataframe\">\n",
       "  <thead>\n",
       "    <tr style=\"text-align: right;\">\n",
       "      <th></th>\n",
       "      <th>id</th>\n",
       "      <th>qid1</th>\n",
       "      <th>qid2</th>\n",
       "      <th>question1</th>\n",
       "      <th>question2</th>\n",
       "      <th>is_duplicate</th>\n",
       "    </tr>\n",
       "  </thead>\n",
       "  <tbody>\n",
       "    <tr>\n",
       "      <th>0</th>\n",
       "      <td>0</td>\n",
       "      <td>1</td>\n",
       "      <td>2</td>\n",
       "      <td>What is the step by step guide to invest in sh...</td>\n",
       "      <td>What is the step by step guide to invest in sh...</td>\n",
       "      <td>0</td>\n",
       "    </tr>\n",
       "    <tr>\n",
       "      <th>1</th>\n",
       "      <td>1</td>\n",
       "      <td>3</td>\n",
       "      <td>4</td>\n",
       "      <td>What is the story of Kohinoor (Koh-i-Noor) Dia...</td>\n",
       "      <td>What would happen if the Indian government sto...</td>\n",
       "      <td>0</td>\n",
       "    </tr>\n",
       "    <tr>\n",
       "      <th>2</th>\n",
       "      <td>2</td>\n",
       "      <td>5</td>\n",
       "      <td>6</td>\n",
       "      <td>How can I increase the speed of my internet co...</td>\n",
       "      <td>How can Internet speed be increased by hacking...</td>\n",
       "      <td>0</td>\n",
       "    </tr>\n",
       "    <tr>\n",
       "      <th>3</th>\n",
       "      <td>3</td>\n",
       "      <td>7</td>\n",
       "      <td>8</td>\n",
       "      <td>Why am I mentally very lonely? How can I solve...</td>\n",
       "      <td>Find the remainder when [math]23^{24}[/math] i...</td>\n",
       "      <td>0</td>\n",
       "    </tr>\n",
       "    <tr>\n",
       "      <th>4</th>\n",
       "      <td>4</td>\n",
       "      <td>9</td>\n",
       "      <td>10</td>\n",
       "      <td>Which one dissolve in water quikly sugar, salt...</td>\n",
       "      <td>Which fish would survive in salt water?</td>\n",
       "      <td>0</td>\n",
       "    </tr>\n",
       "  </tbody>\n",
       "</table>\n",
       "</div>"
      ],
      "text/plain": [
       "   id  qid1  qid2                                          question1  \\\n",
       "0   0     1     2  What is the step by step guide to invest in sh...   \n",
       "1   1     3     4  What is the story of Kohinoor (Koh-i-Noor) Dia...   \n",
       "2   2     5     6  How can I increase the speed of my internet co...   \n",
       "3   3     7     8  Why am I mentally very lonely? How can I solve...   \n",
       "4   4     9    10  Which one dissolve in water quikly sugar, salt...   \n",
       "\n",
       "                                           question2  is_duplicate  \n",
       "0  What is the step by step guide to invest in sh...             0  \n",
       "1  What would happen if the Indian government sto...             0  \n",
       "2  How can Internet speed be increased by hacking...             0  \n",
       "3  Find the remainder when [math]23^{24}[/math] i...             0  \n",
       "4            Which fish would survive in salt water?             0  "
      ]
     },
     "execution_count": 7,
     "metadata": {},
     "output_type": "execute_result"
    }
   ],
   "source": [
    "data.head()"
   ]
  },
  {
   "cell_type": "code",
   "execution_count": 11,
   "metadata": {},
   "outputs": [],
   "source": [
    "questions = data['question1']\n",
    "questions = data['question1'].astype('str')"
   ]
  },
  {
   "cell_type": "code",
   "execution_count": 12,
   "metadata": {
    "scrolled": true
   },
   "outputs": [
    {
     "data": {
      "text/plain": [
       "0         What is the step by step guide to invest in sh...\n",
       "1         What is the story of Kohinoor (Koh-i-Noor) Dia...\n",
       "2         How can I increase the speed of my internet co...\n",
       "3         Why am I mentally very lonely? How can I solve...\n",
       "4         Which one dissolve in water quikly sugar, salt...\n",
       "5         Astrology: I am a Capricorn Sun Cap moon and c...\n",
       "6                                       Should I buy tiago?\n",
       "7                            How can I be a good geologist?\n",
       "8                           When do you use シ instead of し?\n",
       "9         Motorola (company): Can I hack my Charter Moto...\n",
       "10        Method to find separation of slits using fresn...\n",
       "11              How do I read and find my YouTube comments?\n",
       "12                     What can make Physics easy to learn?\n",
       "13              What was your first sexual experience like?\n",
       "14        What are the laws to change your status from a...\n",
       "15        What would a Trump presidency mean for current...\n",
       "16                             What does manipulation mean?\n",
       "17        Why do girls want to be friends with the guy t...\n",
       "18        Why are so many Quora users posting questions ...\n",
       "19        Which is the best digital marketing institutio...\n",
       "20                               Why do rockets look white?\n",
       "21                    What's causing someone to be jealous?\n",
       "22          What are the questions should not ask on Quora?\n",
       "23                                 How much is 30 kV in HP?\n",
       "24        What does it mean that every time I look at th...\n",
       "25        What are some tips on making it through the jo...\n",
       "26                                 What is web application?\n",
       "27        Does society place too much importance on sports?\n",
       "28                   What is best way to make money online?\n",
       "29                   How should I prepare for CA final law?\n",
       "                                ...                        \n",
       "404260                     Which phone is best under 12000?\n",
       "404261    Who is the overall most popular Game of Throne...\n",
       "404262            How do you troubleshoot a Toshiba laptop?\n",
       "404263    How does the burning of fossil fuels contribut...\n",
       "404264    Is it safe to store an external battery power ...\n",
       "404265                    How can I gain weight on my body?\n",
       "404266    What is the green dot next to the phone icon o...\n",
       "404267    What are the causes of the fall of the Roman E...\n",
       "404268    Why don't we still do great music like in the ...\n",
       "404269    How do you diagnose antisocial personality dis...\n",
       "404270          What is the difference between who and how?\n",
       "404271    Does Stalin have any grandchildren that are st...\n",
       "404272    What are the best new car products or inventio...\n",
       "404273      What happens if you put milk in a coffee maker?\n",
       "404274    Will the next generation of parenting change o...\n",
       "404275    In accounting, why do we debit expenses and cr...\n",
       "404276                           What is copilotsearch.com?\n",
       "404277                              What does analytics do?\n",
       "404278            How did you prepare for AIIMS/NEET/AIPMT?\n",
       "404279    What is the minimum time required to build a f...\n",
       "404280    What are some outfit ideas to wear to a frat p...\n",
       "404281    Why is Manaphy childish in Pokémon Ranger and ...\n",
       "404282          How does a long distance relationship work?\n",
       "404283    What do you think of the removal of the MagSaf...\n",
       "404284           What does Jainism say about homosexuality?\n",
       "404285    How many keywords are there in the Racket prog...\n",
       "404286            Do you believe there is life after death?\n",
       "404287                                    What is one coin?\n",
       "404288    What is the approx annual cost of living while...\n",
       "404289                What is like to have sex with cousin?\n",
       "Name: question1, Length: 404290, dtype: object"
      ]
     },
     "execution_count": 12,
     "metadata": {},
     "output_type": "execute_result"
    }
   ],
   "source": [
    "questions"
   ]
  },
  {
   "cell_type": "code",
   "execution_count": 13,
   "metadata": {},
   "outputs": [
    {
     "name": "stdout",
     "output_type": "stream",
     "text": [
      "404290 questions loaded, avg. len of 10\n"
     ]
    }
   ],
   "source": [
    "print('%d questions loaded, avg. len of %d' % (len(questions), np.mean([len(d.split()) for d in questions])))"
   ]
  },
  {
   "cell_type": "code",
   "execution_count": 33,
   "metadata": {},
   "outputs": [],
   "source": [
    "from bert_serving.client import BertClient\n",
    "bc = BertClient(port=5555, port_out=5556)\n",
    "doc_vecs = bc.encode(list(questions[:2000]))"
   ]
  },
  {
   "cell_type": "code",
   "execution_count": 27,
   "metadata": {},
   "outputs": [
    {
     "data": {
      "text/plain": [
       "['What is the step by step guide to invest in share market in india?']"
      ]
     },
     "execution_count": 27,
     "metadata": {},
     "output_type": "execute_result"
    }
   ],
   "source": [
    "list(questions[:1])"
   ]
  },
  {
   "cell_type": "code",
   "execution_count": null,
   "metadata": {},
   "outputs": [
    {
     "name": "stdout",
     "output_type": "stream",
     "text": [
      "your question: how do i learn programming\n",
      "> 11.561139\tHow do I learn Python systematically?\n",
      "> 11.439406\tHow can I learn computer security?\n",
      "> 11.105821\tHow do I work with machine learning researchers after graduation?\n",
      "your question: what are the real life problems?\n",
      "> 11.017017\tWhat is the ideal life after retirement?\n",
      "> 10.829436\tWhat are some exothermic examples in everyday life?\n",
      "> 10.800079\tWhat are the consequences of trolling?\n",
      "your question: college days are so awesome\n",
      "> 9.273706\tHow does it feel to retake a class in college?\n",
      "> 9.167202\tShould I repeat 2nd year in college, or find a new college? It's a 5 year course.\n",
      "> 9.156835\tAre there any jobs where I can combine my creative and tech minds?\n",
      "your question: how do i prepare a cake?\n",
      "> 11.47351\tHow do I start a plant nursery?\n",
      "> 11.236201\tHow do I take professional pictures?\n",
      "> 11.229731\tHow do I learn Python systematically?\n"
     ]
    }
   ],
   "source": [
    "while True:\n",
    "    query = input('your question: ')\n",
    "    query_vec = bc.encode([query])[0]\n",
    "    # compute normalized dot product as score\n",
    "    score = np.sum(query_vec * doc_vecs, axis=1) / np.linalg.norm(doc_vecs, axis=1)\n",
    "    topk_idx = np.argsort(score)[::-1][:3]\n",
    "    for idx in topk_idx:\n",
    "        print('> %s\\t%s' % (score[idx], questions[idx]))"
   ]
  },
  {
   "cell_type": "code",
   "execution_count": null,
   "metadata": {},
   "outputs": [],
   "source": []
  }
 ],
 "metadata": {
  "kernelspec": {
   "display_name": "Python 3",
   "language": "python",
   "name": "python3"
  },
  "language_info": {
   "codemirror_mode": {
    "name": "ipython",
    "version": 3
   },
   "file_extension": ".py",
   "mimetype": "text/x-python",
   "name": "python",
   "nbconvert_exporter": "python",
   "pygments_lexer": "ipython3",
   "version": "3.7.3"
  }
 },
 "nbformat": 4,
 "nbformat_minor": 2
}
